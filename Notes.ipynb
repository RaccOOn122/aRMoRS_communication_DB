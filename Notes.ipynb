{
 "cells": [
  {
   "cell_type": "code",
   "execution_count": null,
   "metadata": {},
   "outputs": [],
   "source": [
    "https://xbplib.readthedocs.io/en/latest/getting_started_with_xbee_python_library.html#gsgappzbdmdp802\n",
    "https://xbplib.readthedocs.io/en/latest/user_doc/communicating_with_xbee_devices.html#polling-for-explicit-data"
   ]
  },
  {
   "cell_type": "code",
   "execution_count": null,
   "metadata": {},
   "outputs": [],
   "source": [
    "import json\n",
    "from pymongo import MongoClient\n",
    "from digi.xbee.devices import XBeeDevice\n",
    "\n",
    "device = XBeeDevice(\"COM1\", 9600)"
   ]
  },
  {
   "cell_type": "code",
   "execution_count": null,
   "metadata": {},
   "outputs": [],
   "source": [
    "device.open()"
   ]
  },
  {
   "cell_type": "code",
   "execution_count": null,
   "metadata": {},
   "outputs": [],
   "source": [
    "# notes - sending data\n",
    "\n",
    "device.open()\n",
    "device.send_data_broadcast(\"Hello XBee World!\")\n",
    "device.close()"
   ]
  },
  {
   "cell_type": "code",
   "execution_count": null,
   "metadata": {},
   "outputs": [],
   "source": [
    "# receive data\n",
    "\n",
    "xbee_message = device.read_expl_data()"
   ]
  },
  {
   "cell_type": "code",
   "execution_count": null,
   "metadata": {},
   "outputs": [],
   "source": [
    "# more info from communication\n",
    "\n",
    "expl_xbee_message = device.read_expl_data()\n",
    "\n",
    "remote_device = expl_xbee_message.remote_device\n",
    "source_endpoint = expl_xbee_message.source_endpoint\n",
    "dest_endpoint = expl_xbee_message.dest_endpoint\n",
    "cluster_id = expl_xbee_message.cluster_id\n",
    "profile_id = expl_xbee_message.profile_id\n",
    "data = xbee_message.data\n",
    "is_broadcast = expl_xbee_message.is_broadcast\n",
    "timestamp = expl_xbee_message.timestamp"
   ]
  },
  {
   "cell_type": "code",
   "execution_count": null,
   "metadata": {},
   "outputs": [],
   "source": [
    "# change string to JSON\n",
    "\n",
    "#ToDO [...]"
   ]
  },
  {
   "cell_type": "code",
   "execution_count": null,
   "metadata": {},
   "outputs": [],
   "source": [
    "# register a network modifications callback\n",
    "\n",
    "def cb_network_modified(event_type, reason, node):\n",
    "\n",
    "    print(\"  >>>> Network event:\")\n",
    "    print(\"         Type: %s (%d)\" % (event_type.description, event_type.code))\n",
    "    print(\"         Reason: %s (%d)\" % (reason.description, reason.code))\n",
    "\n",
    "    if not node:\n",
    "        return\n",
    "\n",
    "    print(\"         Node:\")\n",
    "    print(\"            %s\" % node)\n",
    "\n",
    "xnet = xbee.get_network()\n",
    "\n",
    "# Add the network modified callback.\n",
    "\n",
    "xnet.add_network_modified_callback(cb_network_modified)"
   ]
  },
  {
   "cell_type": "code",
   "execution_count": null,
   "metadata": {},
   "outputs": [],
   "source": []
  },
  {
   "cell_type": "code",
   "execution_count": null,
   "metadata": {},
   "outputs": [],
   "source": []
  },
  {
   "cell_type": "code",
   "execution_count": null,
   "metadata": {},
   "outputs": [],
   "source": []
  }
 ],
 "metadata": {
  "kernelspec": {
   "display_name": "Python 3",
   "language": "python",
   "name": "python3"
  },
  "language_info": {
   "codemirror_mode": {
    "name": "ipython",
    "version": 3
   },
   "file_extension": ".py",
   "mimetype": "text/x-python",
   "name": "python",
   "nbconvert_exporter": "python",
   "pygments_lexer": "ipython3",
   "version": "3.8.5"
  }
 },
 "nbformat": 4,
 "nbformat_minor": 4
}
