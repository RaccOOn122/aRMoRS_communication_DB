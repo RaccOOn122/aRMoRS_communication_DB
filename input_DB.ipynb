{
 "cells": [
  {
   "cell_type": "raw",
   "metadata": {},
   "source": [
    "# open txt file\n",
    "myJSON = open(\"D:\\\\RaccOOn\\\\Studia\\\\AiSR_2020_\\\\MAGISTERKA__\\\\Scripts\\\\test_input_json.txt\");\n",
    "print(myJSON)\n"
   ]
  },
  {
   "cell_type": "raw",
   "metadata": {},
   "source": [
    "########################################### Notes ###############################################\n",
    "#################################################################################################\n",
    "############################## Input data into databases script #################################\n",
    "#################################################################################################\n",
    "\n",
    "import json\n",
    "from pymongo import MongoClient \n",
    "\n",
    "# connection\n",
    "myclient = MongoClient(\"mongodb://localhost:27017/\") \n",
    "\n",
    "# databases \n",
    "db = myclient[\"baza_robocza\"]\n",
    "db1 = myclient[\"baza_historyczna\"] \n",
    "\n",
    "# used collections\n",
    "Collection = db[\"collection_test\"]\n",
    "Collection1 = db1[\"test2\"]\n",
    "\n",
    "# open json file\n",
    "with open('test_input_json.json') as file:\n",
    "    file_data = json.load(file)\n",
    "\n",
    "    \n",
    "# choosing data for databases\n",
    "#ToDO\n",
    "file_data1 = file_data\n",
    "file_data2 = file_data\n",
    "\n",
    "# sending data to choosen collection\n",
    "if isinstance(file_data, list):\n",
    "    Collection.insert_many(file_data1)\n",
    "    Collection1.insert_many(file_data2)\n",
    "else:\n",
    "    Collection.insert_one(file_data)\n",
    "    Collection1.insert_one(file_data2)"
   ]
  },
  {
   "cell_type": "code",
   "execution_count": 1,
   "metadata": {},
   "outputs": [],
   "source": [
    "#################################################################################################\n",
    "############################## Input data into databases script #################################\n",
    "#################################################################################################\n",
    "import json\n",
    "from pymongo import MongoClient \n",
    "\n",
    "class ImportData():\n",
    "    def __init__(self, file, myClient):\n",
    "        self.file = file\n",
    "        self.myClient = myClient\n",
    "    def Databases(self):\n",
    "        db = self.myclient[\"baza_robocza\"]\n",
    "        db1 = self.myclient[\"baza_historyczna\"]\n",
    "    def Collections(self):\n",
    "        Collection = self.Databases.db[\"collection_test\"]\n",
    "        Collection1 = self.Databases.db1[\"test2\"]\n",
    "    def ChooseData(self):\n",
    "        file_data1 = self.file\n",
    "        file_data2 = self.file\n",
    "    def SendData(self):\n",
    "        if isinstance(file_data, list):\n",
    "            self.Collections.Collection.insert_many(self.ChooseData.file_data1)\n",
    "            self.Collections.Collection1.insert_many(self.ChooseData.file_data2)\n",
    "        else:\n",
    "            self.Collections.Collection.insert_one(self.ChooseData.file_data1)\n",
    "            self.Collections.Collection1.insert_one(self.ChooseData.file_data2)\n",
    "            \n",
    "#ImportData(new_file, myClient)\n"
   ]
  },
  {
   "cell_type": "code",
   "execution_count": null,
   "metadata": {},
   "outputs": [],
   "source": []
  }
 ],
 "metadata": {
  "kernelspec": {
   "display_name": "Python 3",
   "language": "python",
   "name": "python3"
  },
  "language_info": {
   "codemirror_mode": {
    "name": "ipython",
    "version": 3
   },
   "file_extension": ".py",
   "mimetype": "text/x-python",
   "name": "python",
   "nbconvert_exporter": "python",
   "pygments_lexer": "ipython3",
   "version": "3.8.5"
  }
 },
 "nbformat": 4,
 "nbformat_minor": 5
}
