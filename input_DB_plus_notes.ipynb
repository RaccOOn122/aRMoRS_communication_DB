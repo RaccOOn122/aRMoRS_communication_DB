{
 "cells": [
  {
   "cell_type": "raw",
   "id": "equal-prospect",
   "metadata": {},
   "source": [
    "https://xbplib.readthedocs.io/en/latest/getting_started_with_xbee_python_library.html#gsgappzbdmdp802\n",
    "https://xbplib.readthedocs.io/en/latest/user_doc/communicating_with_xbee_devices.html#polling-for-explicit-data"
   ]
  },
  {
   "cell_type": "code",
   "execution_count": 7,
   "id": "engaged-scoop",
   "metadata": {},
   "outputs": [],
   "source": [
    "import json\n",
    "from pymongo import MongoClient\n",
    "from digi.xbee.devices import XBeeDevice\n",
    "\n",
    "device = XBeeDevice(\"COM1\", 9600)"
   ]
  },
  {
   "cell_type": "code",
   "execution_count": null,
   "id": "suspended-suspension",
   "metadata": {},
   "outputs": [],
   "source": [
    "device.open()"
   ]
  },
  {
   "cell_type": "raw",
   "id": "gross-jumping",
   "metadata": {},
   "source": [
    "# notes - sending data\n",
    "\n",
    "device.open()\n",
    "device.send_data_broadcast(\"Hello XBee World!\")\n",
    "device.close()"
   ]
  },
  {
   "cell_type": "code",
   "execution_count": null,
   "id": "clinical-mexican",
   "metadata": {},
   "outputs": [],
   "source": [
    "# receive data\n",
    "\n",
    "xbee_message = device.read_expl_data()"
   ]
  },
  {
   "cell_type": "code",
   "execution_count": null,
   "id": "animal-korean",
   "metadata": {},
   "outputs": [],
   "source": [
    "# more info from communication\n",
    "\n",
    "expl_xbee_message = device.read_expl_data()\n",
    "\n",
    "remote_device = expl_xbee_message.remote_device\n",
    "source_endpoint = expl_xbee_message.source_endpoint\n",
    "dest_endpoint = expl_xbee_message.dest_endpoint\n",
    "cluster_id = expl_xbee_message.cluster_id\n",
    "profile_id = expl_xbee_message.profile_id\n",
    "data = xbee_message.data\n",
    "is_broadcast = expl_xbee_message.is_broadcast\n",
    "timestamp = expl_xbee_message.timestamp"
   ]
  },
  {
   "cell_type": "code",
   "execution_count": null,
   "id": "outdoor-factor",
   "metadata": {},
   "outputs": [],
   "source": [
    "# change string to JSON\n",
    "\n",
    "#ToDO [...]"
   ]
  },
  {
   "cell_type": "code",
   "execution_count": null,
   "id": "computational-ireland",
   "metadata": {},
   "outputs": [],
   "source": [
    "# register a network modifications callback\n",
    "\n",
    "def cb_network_modified(event_type, reason, node):\n",
    "\n",
    "    print(\"  >>>> Network event:\")\n",
    "    print(\"         Type: %s (%d)\" % (event_type.description, event_type.code))\n",
    "    print(\"         Reason: %s (%d)\" % (reason.description, reason.code))\n",
    "\n",
    "    if not node:\n",
    "        return\n",
    "\n",
    "    print(\"         Node:\")\n",
    "    print(\"            %s\" % node)\n",
    "\n",
    "xnet = xbee.get_network()\n",
    "\n",
    "# Add the network modified callback.\n",
    "\n",
    "xnet.add_network_modified_callback(cb_network_modified)"
   ]
  },
  {
   "cell_type": "code",
   "execution_count": 1,
   "id": "vulnerable-civilian",
   "metadata": {},
   "outputs": [],
   "source": [
    "# path finding BFS algorith\n",
    "def bfs(grid, start):\n",
    "    queue = collections.deque([[start]])\n",
    "    seen = set([start])\n",
    "    while queue:\n",
    "        path = queue.popleft()\n",
    "        x, y = path[-1]\n",
    "        if grid[y][x] == goal:\n",
    "            return path\n",
    "        for x2, y2 in ((x+1,y), (x-1,y), (x,y+1), (x,y-1)):\n",
    "            if 0 <= x2 < width and 0 <= y2 < height and grid[y2][x2] != wall and (x2, y2) not in seen:\n",
    "                queue.append(path + [(x2, y2)])\n",
    "                seen.add((x2, y2))"
   ]
  },
  {
   "cell_type": "code",
   "execution_count": 10,
   "id": "logical-syracuse",
   "metadata": {},
   "outputs": [
    {
     "name": "stdout",
     "output_type": "stream",
     "text": [
      "<_io.TextIOWrapper name='D:\\\\RaccOOn\\\\Studia\\\\AiSR_2020_\\\\MAGISTERKA__\\\\Scripts\\\\test_input_json.txt' mode='r' encoding='cp1252'>\n"
     ]
    }
   ],
   "source": [
    "# open txt file\n",
    "myJSON = open(r\"D:\\RaccOOn\\Studia\\AiSR_2020_\\MAGISTERKA__\\Scripts\\test_input_json.txt\");\n",
    "print(myJSON)\n"
   ]
  },
  {
   "cell_type": "code",
   "execution_count": 14,
   "id": "abstract-electric",
   "metadata": {},
   "outputs": [],
   "source": [
    "#################################################################################################\n",
    "############################## Input data into databases script #################################\n",
    "#################################################################################################\n",
    "\n",
    "import json\n",
    "from pymongo import MongoClient \n",
    "\n",
    "# connection\n",
    "myclient = MongoClient(\"mongodb://localhost:27017/\") \n",
    "\n",
    "# databases \n",
    "db = myclient[\"baza_robocza\"]\n",
    "db1 = myclient[\"baza_historyczna\"] \n",
    "\n",
    "# used collections\n",
    "Collection = db[\"collection_test\"]\n",
    "Collection1 = db1[\"test2\"]\n",
    "\n",
    "# open json file\n",
    "with open('test_input_json.json') as file:\n",
    "    file_data = json.load(file)\n",
    "\n",
    "# choosing data for databases\n",
    "#ToDO\n",
    "file_data1 = file_data\n",
    "file_data2 = file_data\n",
    "\n",
    "# sending data to choosen collection\n",
    "if isinstance(file_data, list):\n",
    "    Collection.insert_many(file_data1)\n",
    "    Collection1.insert_many(file_data2)\n",
    "else:\n",
    "    Collection.insert_one(file_data)\n",
    "    Collection1.insert_one(file_data2)"
   ]
  },
  {
   "cell_type": "code",
   "execution_count": null,
   "id": "equipped-enemy",
   "metadata": {},
   "outputs": [],
   "source": []
  }
 ],
 "metadata": {
  "kernelspec": {
   "display_name": "Python 3",
   "language": "python",
   "name": "python3"
  },
  "language_info": {
   "codemirror_mode": {
    "name": "ipython",
    "version": 3
   },
   "file_extension": ".py",
   "mimetype": "text/x-python",
   "name": "python",
   "nbconvert_exporter": "python",
   "pygments_lexer": "ipython3",
   "version": "3.8.8"
  }
 },
 "nbformat": 4,
 "nbformat_minor": 5
}
